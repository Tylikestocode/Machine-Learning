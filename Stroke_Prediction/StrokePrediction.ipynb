{
 "cells": [
  {
   "cell_type": "markdown",
   "metadata": {},
   "source": [
    "# Stroke Prediction Using Deep Learning"
   ]
  },
  {
   "cell_type": "code",
   "execution_count": 120,
   "metadata": {},
   "outputs": [],
   "source": [
    "import pandas as pd\n",
    "import numpy as np\n",
    "import matplotlib.pyplot as plt\n",
    "import seaborn as sns"
   ]
  },
  {
   "cell_type": "markdown",
   "metadata": {},
   "source": [
    "### Loading in the data and getting a simple overview of it"
   ]
  },
  {
   "cell_type": "code",
   "execution_count": 121,
   "metadata": {},
   "outputs": [
    {
     "data": {
      "text/html": [
       "<div>\n",
       "<style scoped>\n",
       "    .dataframe tbody tr th:only-of-type {\n",
       "        vertical-align: middle;\n",
       "    }\n",
       "\n",
       "    .dataframe tbody tr th {\n",
       "        vertical-align: top;\n",
       "    }\n",
       "\n",
       "    .dataframe thead th {\n",
       "        text-align: right;\n",
       "    }\n",
       "</style>\n",
       "<table border=\"1\" class=\"dataframe\">\n",
       "  <thead>\n",
       "    <tr style=\"text-align: right;\">\n",
       "      <th></th>\n",
       "      <th>id</th>\n",
       "      <th>gender</th>\n",
       "      <th>age</th>\n",
       "      <th>hypertension</th>\n",
       "      <th>heart_disease</th>\n",
       "      <th>ever_married</th>\n",
       "      <th>work_type</th>\n",
       "      <th>Residence_type</th>\n",
       "      <th>avg_glucose_level</th>\n",
       "      <th>bmi</th>\n",
       "      <th>smoking_status</th>\n",
       "      <th>stroke</th>\n",
       "    </tr>\n",
       "  </thead>\n",
       "  <tbody>\n",
       "    <tr>\n",
       "      <th>0</th>\n",
       "      <td>9046</td>\n",
       "      <td>Male</td>\n",
       "      <td>67.0</td>\n",
       "      <td>0</td>\n",
       "      <td>1</td>\n",
       "      <td>Yes</td>\n",
       "      <td>Private</td>\n",
       "      <td>Urban</td>\n",
       "      <td>228.69</td>\n",
       "      <td>36.6</td>\n",
       "      <td>formerly smoked</td>\n",
       "      <td>1</td>\n",
       "    </tr>\n",
       "    <tr>\n",
       "      <th>1</th>\n",
       "      <td>51676</td>\n",
       "      <td>Female</td>\n",
       "      <td>61.0</td>\n",
       "      <td>0</td>\n",
       "      <td>0</td>\n",
       "      <td>Yes</td>\n",
       "      <td>Self-employed</td>\n",
       "      <td>Rural</td>\n",
       "      <td>202.21</td>\n",
       "      <td>NaN</td>\n",
       "      <td>never smoked</td>\n",
       "      <td>1</td>\n",
       "    </tr>\n",
       "    <tr>\n",
       "      <th>2</th>\n",
       "      <td>31112</td>\n",
       "      <td>Male</td>\n",
       "      <td>80.0</td>\n",
       "      <td>0</td>\n",
       "      <td>1</td>\n",
       "      <td>Yes</td>\n",
       "      <td>Private</td>\n",
       "      <td>Rural</td>\n",
       "      <td>105.92</td>\n",
       "      <td>32.5</td>\n",
       "      <td>never smoked</td>\n",
       "      <td>1</td>\n",
       "    </tr>\n",
       "    <tr>\n",
       "      <th>3</th>\n",
       "      <td>60182</td>\n",
       "      <td>Female</td>\n",
       "      <td>49.0</td>\n",
       "      <td>0</td>\n",
       "      <td>0</td>\n",
       "      <td>Yes</td>\n",
       "      <td>Private</td>\n",
       "      <td>Urban</td>\n",
       "      <td>171.23</td>\n",
       "      <td>34.4</td>\n",
       "      <td>smokes</td>\n",
       "      <td>1</td>\n",
       "    </tr>\n",
       "    <tr>\n",
       "      <th>4</th>\n",
       "      <td>1665</td>\n",
       "      <td>Female</td>\n",
       "      <td>79.0</td>\n",
       "      <td>1</td>\n",
       "      <td>0</td>\n",
       "      <td>Yes</td>\n",
       "      <td>Self-employed</td>\n",
       "      <td>Rural</td>\n",
       "      <td>174.12</td>\n",
       "      <td>24.0</td>\n",
       "      <td>never smoked</td>\n",
       "      <td>1</td>\n",
       "    </tr>\n",
       "    <tr>\n",
       "      <th>5</th>\n",
       "      <td>56669</td>\n",
       "      <td>Male</td>\n",
       "      <td>81.0</td>\n",
       "      <td>0</td>\n",
       "      <td>0</td>\n",
       "      <td>Yes</td>\n",
       "      <td>Private</td>\n",
       "      <td>Urban</td>\n",
       "      <td>186.21</td>\n",
       "      <td>29.0</td>\n",
       "      <td>formerly smoked</td>\n",
       "      <td>1</td>\n",
       "    </tr>\n",
       "    <tr>\n",
       "      <th>6</th>\n",
       "      <td>53882</td>\n",
       "      <td>Male</td>\n",
       "      <td>74.0</td>\n",
       "      <td>1</td>\n",
       "      <td>1</td>\n",
       "      <td>Yes</td>\n",
       "      <td>Private</td>\n",
       "      <td>Rural</td>\n",
       "      <td>70.09</td>\n",
       "      <td>27.4</td>\n",
       "      <td>never smoked</td>\n",
       "      <td>1</td>\n",
       "    </tr>\n",
       "    <tr>\n",
       "      <th>7</th>\n",
       "      <td>10434</td>\n",
       "      <td>Female</td>\n",
       "      <td>69.0</td>\n",
       "      <td>0</td>\n",
       "      <td>0</td>\n",
       "      <td>No</td>\n",
       "      <td>Private</td>\n",
       "      <td>Urban</td>\n",
       "      <td>94.39</td>\n",
       "      <td>22.8</td>\n",
       "      <td>never smoked</td>\n",
       "      <td>1</td>\n",
       "    </tr>\n",
       "    <tr>\n",
       "      <th>8</th>\n",
       "      <td>27419</td>\n",
       "      <td>Female</td>\n",
       "      <td>59.0</td>\n",
       "      <td>0</td>\n",
       "      <td>0</td>\n",
       "      <td>Yes</td>\n",
       "      <td>Private</td>\n",
       "      <td>Rural</td>\n",
       "      <td>76.15</td>\n",
       "      <td>NaN</td>\n",
       "      <td>Unknown</td>\n",
       "      <td>1</td>\n",
       "    </tr>\n",
       "    <tr>\n",
       "      <th>9</th>\n",
       "      <td>60491</td>\n",
       "      <td>Female</td>\n",
       "      <td>78.0</td>\n",
       "      <td>0</td>\n",
       "      <td>0</td>\n",
       "      <td>Yes</td>\n",
       "      <td>Private</td>\n",
       "      <td>Urban</td>\n",
       "      <td>58.57</td>\n",
       "      <td>24.2</td>\n",
       "      <td>Unknown</td>\n",
       "      <td>1</td>\n",
       "    </tr>\n",
       "  </tbody>\n",
       "</table>\n",
       "</div>"
      ],
      "text/plain": [
       "      id  gender   age  hypertension  heart_disease ever_married  \\\n",
       "0   9046    Male  67.0             0              1          Yes   \n",
       "1  51676  Female  61.0             0              0          Yes   \n",
       "2  31112    Male  80.0             0              1          Yes   \n",
       "3  60182  Female  49.0             0              0          Yes   \n",
       "4   1665  Female  79.0             1              0          Yes   \n",
       "5  56669    Male  81.0             0              0          Yes   \n",
       "6  53882    Male  74.0             1              1          Yes   \n",
       "7  10434  Female  69.0             0              0           No   \n",
       "8  27419  Female  59.0             0              0          Yes   \n",
       "9  60491  Female  78.0             0              0          Yes   \n",
       "\n",
       "       work_type Residence_type  avg_glucose_level   bmi   smoking_status  \\\n",
       "0        Private          Urban             228.69  36.6  formerly smoked   \n",
       "1  Self-employed          Rural             202.21   NaN     never smoked   \n",
       "2        Private          Rural             105.92  32.5     never smoked   \n",
       "3        Private          Urban             171.23  34.4           smokes   \n",
       "4  Self-employed          Rural             174.12  24.0     never smoked   \n",
       "5        Private          Urban             186.21  29.0  formerly smoked   \n",
       "6        Private          Rural              70.09  27.4     never smoked   \n",
       "7        Private          Urban              94.39  22.8     never smoked   \n",
       "8        Private          Rural              76.15   NaN          Unknown   \n",
       "9        Private          Urban              58.57  24.2          Unknown   \n",
       "\n",
       "   stroke  \n",
       "0       1  \n",
       "1       1  \n",
       "2       1  \n",
       "3       1  \n",
       "4       1  \n",
       "5       1  \n",
       "6       1  \n",
       "7       1  \n",
       "8       1  \n",
       "9       1  "
      ]
     },
     "execution_count": 121,
     "metadata": {},
     "output_type": "execute_result"
    }
   ],
   "source": [
    "data = pd.read_csv('C:\\\\Users\\\\Tyron\\\\OneDrive\\\\Desktop\\\\Machine Learning Projects\\\\Machine-Learning-Projects\\\\Stroke_Prediction\\\\healthcare-dataset-stroke-data.csv')\n",
    "data.head(10)"
   ]
  },
  {
   "cell_type": "code",
   "execution_count": 122,
   "metadata": {},
   "outputs": [
    {
     "name": "stdout",
     "output_type": "stream",
     "text": [
      "<class 'pandas.core.frame.DataFrame'>\n",
      "RangeIndex: 5110 entries, 0 to 5109\n",
      "Data columns (total 12 columns):\n",
      " #   Column             Non-Null Count  Dtype  \n",
      "---  ------             --------------  -----  \n",
      " 0   id                 5110 non-null   int64  \n",
      " 1   gender             5110 non-null   object \n",
      " 2   age                5110 non-null   float64\n",
      " 3   hypertension       5110 non-null   int64  \n",
      " 4   heart_disease      5110 non-null   int64  \n",
      " 5   ever_married       5110 non-null   object \n",
      " 6   work_type          5110 non-null   object \n",
      " 7   Residence_type     5110 non-null   object \n",
      " 8   avg_glucose_level  5110 non-null   float64\n",
      " 9   bmi                4909 non-null   float64\n",
      " 10  smoking_status     5110 non-null   object \n",
      " 11  stroke             5110 non-null   int64  \n",
      "dtypes: float64(3), int64(4), object(5)\n",
      "memory usage: 479.2+ KB\n"
     ]
    }
   ],
   "source": [
    "data.info()"
   ]
  },
  {
   "cell_type": "code",
   "execution_count": 123,
   "metadata": {},
   "outputs": [
    {
     "data": {
      "text/plain": [
       "id                   False\n",
       "gender               False\n",
       "age                  False\n",
       "hypertension         False\n",
       "heart_disease        False\n",
       "ever_married         False\n",
       "work_type            False\n",
       "Residence_type       False\n",
       "avg_glucose_level    False\n",
       "bmi                   True\n",
       "smoking_status       False\n",
       "stroke               False\n",
       "dtype: bool"
      ]
     },
     "execution_count": 123,
     "metadata": {},
     "output_type": "execute_result"
    }
   ],
   "source": [
    "data.isna().any()"
   ]
  },
  {
   "cell_type": "code",
   "execution_count": 124,
   "metadata": {},
   "outputs": [
    {
     "data": {
      "text/plain": [
       "id                     0\n",
       "gender                 0\n",
       "age                    0\n",
       "hypertension           0\n",
       "heart_disease          0\n",
       "ever_married           0\n",
       "work_type              0\n",
       "Residence_type         0\n",
       "avg_glucose_level      0\n",
       "bmi                  201\n",
       "smoking_status         0\n",
       "stroke                 0\n",
       "dtype: int64"
      ]
     },
     "execution_count": 124,
     "metadata": {},
     "output_type": "execute_result"
    }
   ],
   "source": [
    "data.isna().sum()"
   ]
  },
  {
   "cell_type": "markdown",
   "metadata": {},
   "source": [
    "### Data Preprocessing"
   ]
  },
  {
   "cell_type": "markdown",
   "metadata": {},
   "source": [
    "#### Splitting the data into train and test sets"
   ]
  },
  {
   "cell_type": "code",
   "execution_count": 125,
   "metadata": {},
   "outputs": [],
   "source": [
    "data = data[data['gender'] != 'Other']\n",
    "stroke_data = data[data['stroke'] == 1].sample(249, random_state=42)\n",
    "no_stroke_data = data[data['stroke'] == 0].sample(249, random_state=42)"
   ]
  },
  {
   "cell_type": "code",
   "execution_count": 143,
   "metadata": {},
   "outputs": [],
   "source": [
    "test = pd.read_csv('test.csv')\n",
    "submission = test['id']"
   ]
  },
  {
   "cell_type": "code",
   "execution_count": 144,
   "metadata": {},
   "outputs": [],
   "source": [
    "test = test[test['work_type'] != 'Never_worked']"
   ]
  },
  {
   "cell_type": "code",
   "execution_count": 145,
   "metadata": {},
   "outputs": [],
   "source": [
    "test = test[test['gender'] != 'Other']"
   ]
  },
  {
   "cell_type": "code",
   "execution_count": 146,
   "metadata": {},
   "outputs": [],
   "source": [
    "test = test.drop(['id'], axis=1)"
   ]
  },
  {
   "cell_type": "code",
   "execution_count": 130,
   "metadata": {},
   "outputs": [],
   "source": [
    "equal_sample = pd.concat([stroke_data.reset_index(), no_stroke_data.reset_index()], axis=0)\n",
    "X = equal_sample.drop(['index', 'id', 'stroke'], axis=1)\n",
    "y = equal_sample['stroke']"
   ]
  },
  {
   "cell_type": "markdown",
   "metadata": {},
   "source": [
    "### Creating a Pipeline to automate data preprocessing"
   ]
  },
  {
   "cell_type": "code",
   "execution_count": 131,
   "metadata": {},
   "outputs": [],
   "source": [
    "from sklearn.pipeline import Pipeline\n",
    "from sklearn.pipeline import make_pipeline\n",
    "from sklearn.compose import ColumnTransformer\n",
    "from sklearn.impute import SimpleImputer\n",
    "from sklearn.preprocessing import StandardScaler\n",
    "from sklearn.preprocessing import OneHotEncoder\n",
    "import tensorflow as tf"
   ]
  },
  {
   "cell_type": "code",
   "execution_count": 132,
   "metadata": {},
   "outputs": [],
   "source": [
    "class Stroke_Pipeline():\n",
    "    def __init__(self, data):\n",
    "        self.data = data\n",
    "        self.num_pipeline = make_pipeline(SimpleImputer(strategy='median'), StandardScaler())\n",
    "        self.cat_pipeline = make_pipeline(OneHotEncoder())\n",
    "    \n",
    "    def transform(self):\n",
    "        num_attrib = self.data.select_dtypes(['int64', 'float64']).columns\n",
    "        cat_attrib = self.data.select_dtypes('object').columns\n",
    "\n",
    "        pipe = ColumnTransformer([\n",
    "            ('num', self.num_pipeline, num_attrib),\n",
    "            ('cat', self.cat_pipeline, cat_attrib)\n",
    "        ])\n",
    "\n",
    "        piped_data = pipe.fit_transform(self.data)\n",
    "        return tf.convert_to_tensor(piped_data)"
   ]
  },
  {
   "cell_type": "code",
   "execution_count": 133,
   "metadata": {},
   "outputs": [],
   "source": [
    "X = Stroke_Pipeline(X).transform()\n",
    "y = tf.convert_to_tensor(y)"
   ]
  },
  {
   "cell_type": "code",
   "execution_count": 134,
   "metadata": {},
   "outputs": [
    {
     "data": {
      "text/plain": [
       "<tf.Tensor: shape=(498, 19), dtype=float64, numpy=\n",
       "array([[ 0.94631846, -0.45687839, -0.36660108, ...,  0.        ,\n",
       "         0.        ,  0.        ],\n",
       "       [ 0.85486579,  2.18876624,  2.72776061, ...,  0.        ,\n",
       "         1.        ,  0.        ],\n",
       "       [ 0.12324441, -0.45687839,  2.72776061, ...,  0.        ,\n",
       "         0.        ,  1.        ],\n",
       "       ...,\n",
       "       [-0.05966093, -0.45687839, -0.36660108, ...,  0.        ,\n",
       "         0.        ,  1.        ],\n",
       "       [-0.83700864, -0.45687839, -0.36660108, ...,  0.        ,\n",
       "         1.        ,  0.        ],\n",
       "       [-1.93444071, -0.45687839, -0.36660108, ...,  0.        ,\n",
       "         0.        ,  0.        ]])>"
      ]
     },
     "execution_count": 134,
     "metadata": {},
     "output_type": "execute_result"
    }
   ],
   "source": [
    "X"
   ]
  },
  {
   "cell_type": "code",
   "execution_count": 135,
   "metadata": {},
   "outputs": [
    {
     "data": {
      "text/plain": [
       "TensorShape([498])"
      ]
     },
     "execution_count": 135,
     "metadata": {},
     "output_type": "execute_result"
    }
   ],
   "source": [
    "y.shape"
   ]
  },
  {
   "cell_type": "markdown",
   "metadata": {},
   "source": [
    "### Model Creation"
   ]
  },
  {
   "cell_type": "code",
   "execution_count": 75,
   "metadata": {},
   "outputs": [],
   "source": [
    "leaky_relu = tf.keras.layers.LeakyReLU(alpha=0.2)\n",
    "\n",
    "model = tf.keras.Sequential([\n",
    "    tf.keras.layers.Input(shape=(19,)),\n",
    "    tf.keras.layers.Dense(498, activation=leaky_relu),\n",
    "    tf.keras.layers.Dropout(0.2),\n",
    "    tf.keras.layers.Dense(498, activation=leaky_relu),\n",
    "    tf.keras.layers.Dropout(0.2),\n",
    "    tf.keras.layers.Dense(249, activation=leaky_relu),\n",
    "    tf.keras.layers.Dropout(0.2),\n",
    "    tf.keras.layers.Dense(249, activation=leaky_relu),\n",
    "    tf.keras.layers.Dropout(0.2),\n",
    "    tf.keras.layers.Dense(125, activation=leaky_relu),\n",
    "    tf.keras.layers.Dropout(0.2),\n",
    "    tf.keras.layers.Dense(1, activation='sigmoid')\n",
    "])"
   ]
  },
  {
   "cell_type": "code",
   "execution_count": 76,
   "metadata": {},
   "outputs": [],
   "source": [
    "model.compile(\n",
    "    optimizer=tf.keras.optimizers.Adam(learning_rate=0.001),\n",
    "    metrics=['accuracy'],\n",
    "    loss='binary_crossentropy'\n",
    ")"
   ]
  },
  {
   "cell_type": "code",
   "execution_count": 80,
   "metadata": {},
   "outputs": [
    {
     "name": "stdout",
     "output_type": "stream",
     "text": [
      "Epoch 1/100\n",
      "16/16 [==============================] - 0s 6ms/step - loss: 0.2247 - accuracy: 0.8956\n",
      "Epoch 2/100\n",
      "16/16 [==============================] - 0s 6ms/step - loss: 0.1877 - accuracy: 0.9157\n",
      "Epoch 3/100\n",
      "16/16 [==============================] - 0s 5ms/step - loss: 0.1731 - accuracy: 0.9177\n",
      "Epoch 4/100\n",
      "16/16 [==============================] - 0s 6ms/step - loss: 0.1855 - accuracy: 0.9096\n",
      "Epoch 5/100\n",
      "16/16 [==============================] - 0s 5ms/step - loss: 0.1675 - accuracy: 0.9237\n",
      "Epoch 6/100\n",
      "16/16 [==============================] - 0s 5ms/step - loss: 0.1954 - accuracy: 0.8956\n",
      "Epoch 7/100\n",
      "16/16 [==============================] - 0s 5ms/step - loss: 0.1906 - accuracy: 0.9197\n",
      "Epoch 8/100\n",
      "16/16 [==============================] - 0s 8ms/step - loss: 0.1389 - accuracy: 0.9418\n",
      "Epoch 9/100\n",
      "16/16 [==============================] - 0s 5ms/step - loss: 0.2019 - accuracy: 0.9076\n",
      "Epoch 10/100\n",
      "16/16 [==============================] - 0s 7ms/step - loss: 0.2043 - accuracy: 0.8976\n",
      "Epoch 11/100\n",
      "16/16 [==============================] - 0s 6ms/step - loss: 0.2064 - accuracy: 0.9116\n",
      "Epoch 12/100\n",
      "16/16 [==============================] - 0s 6ms/step - loss: 0.1944 - accuracy: 0.9116\n",
      "Epoch 13/100\n",
      "16/16 [==============================] - 0s 5ms/step - loss: 0.1994 - accuracy: 0.9217\n",
      "Epoch 14/100\n",
      "16/16 [==============================] - 0s 6ms/step - loss: 0.2005 - accuracy: 0.9016\n",
      "Epoch 15/100\n",
      "16/16 [==============================] - 0s 6ms/step - loss: 0.1475 - accuracy: 0.9257\n",
      "Epoch 16/100\n",
      "16/16 [==============================] - 0s 6ms/step - loss: 0.1519 - accuracy: 0.9257\n",
      "Epoch 17/100\n",
      "16/16 [==============================] - 0s 5ms/step - loss: 0.1579 - accuracy: 0.9297\n",
      "Epoch 18/100\n",
      "16/16 [==============================] - 0s 10ms/step - loss: 0.1416 - accuracy: 0.9398\n",
      "Epoch 19/100\n",
      "16/16 [==============================] - 0s 6ms/step - loss: 0.1618 - accuracy: 0.9257\n",
      "Epoch 20/100\n",
      "16/16 [==============================] - 0s 6ms/step - loss: 0.1572 - accuracy: 0.9237\n",
      "Epoch 21/100\n",
      "16/16 [==============================] - 0s 5ms/step - loss: 0.1608 - accuracy: 0.9398\n",
      "Epoch 22/100\n",
      "16/16 [==============================] - 0s 6ms/step - loss: 0.1328 - accuracy: 0.9337\n",
      "Epoch 23/100\n",
      "16/16 [==============================] - 0s 6ms/step - loss: 0.1208 - accuracy: 0.9277\n",
      "Epoch 24/100\n",
      "16/16 [==============================] - 0s 5ms/step - loss: 0.1033 - accuracy: 0.9498\n",
      "Epoch 25/100\n",
      "16/16 [==============================] - 0s 6ms/step - loss: 0.1538 - accuracy: 0.9277\n",
      "Epoch 26/100\n",
      "16/16 [==============================] - 0s 6ms/step - loss: 0.1484 - accuracy: 0.9297\n",
      "Epoch 27/100\n",
      "16/16 [==============================] - 0s 6ms/step - loss: 0.1663 - accuracy: 0.9257\n",
      "Epoch 28/100\n",
      "16/16 [==============================] - 0s 6ms/step - loss: 0.1490 - accuracy: 0.9217\n",
      "Epoch 29/100\n",
      "16/16 [==============================] - 0s 5ms/step - loss: 0.2002 - accuracy: 0.9177\n",
      "Epoch 30/100\n",
      "16/16 [==============================] - 0s 6ms/step - loss: 0.1933 - accuracy: 0.9157\n",
      "Epoch 31/100\n",
      "16/16 [==============================] - 0s 6ms/step - loss: 0.1834 - accuracy: 0.9096\n",
      "Epoch 32/100\n",
      "16/16 [==============================] - 0s 6ms/step - loss: 0.1654 - accuracy: 0.9317\n",
      "Epoch 33/100\n",
      "16/16 [==============================] - 0s 6ms/step - loss: 0.1498 - accuracy: 0.9458\n",
      "Epoch 34/100\n",
      "16/16 [==============================] - 0s 6ms/step - loss: 0.1568 - accuracy: 0.9317\n",
      "Epoch 35/100\n",
      "16/16 [==============================] - 0s 6ms/step - loss: 0.1188 - accuracy: 0.9498\n",
      "Epoch 36/100\n",
      "16/16 [==============================] - 0s 6ms/step - loss: 0.1803 - accuracy: 0.9277\n",
      "Epoch 37/100\n",
      "16/16 [==============================] - 0s 9ms/step - loss: 0.1433 - accuracy: 0.9277\n",
      "Epoch 38/100\n",
      "16/16 [==============================] - 0s 6ms/step - loss: 0.1190 - accuracy: 0.9458\n",
      "Epoch 39/100\n",
      "16/16 [==============================] - 0s 6ms/step - loss: 0.1253 - accuracy: 0.9538\n",
      "Epoch 40/100\n",
      "16/16 [==============================] - 0s 6ms/step - loss: 0.1232 - accuracy: 0.9478\n",
      "Epoch 41/100\n",
      "16/16 [==============================] - 0s 6ms/step - loss: 0.1483 - accuracy: 0.9237\n",
      "Epoch 42/100\n",
      "16/16 [==============================] - 0s 6ms/step - loss: 0.1830 - accuracy: 0.9297\n",
      "Epoch 43/100\n",
      "16/16 [==============================] - 0s 6ms/step - loss: 0.1455 - accuracy: 0.9357\n",
      "Epoch 44/100\n",
      "16/16 [==============================] - 0s 5ms/step - loss: 0.1258 - accuracy: 0.9337\n",
      "Epoch 45/100\n",
      "16/16 [==============================] - 0s 6ms/step - loss: 0.1309 - accuracy: 0.9458\n",
      "Epoch 46/100\n",
      "16/16 [==============================] - 0s 6ms/step - loss: 0.1111 - accuracy: 0.9538\n",
      "Epoch 47/100\n",
      "16/16 [==============================] - 0s 6ms/step - loss: 0.1117 - accuracy: 0.9438\n",
      "Epoch 48/100\n",
      "16/16 [==============================] - 0s 6ms/step - loss: 0.0963 - accuracy: 0.9639\n",
      "Epoch 49/100\n",
      "16/16 [==============================] - 0s 6ms/step - loss: 0.1308 - accuracy: 0.9337\n",
      "Epoch 50/100\n",
      "16/16 [==============================] - 0s 6ms/step - loss: 0.1572 - accuracy: 0.9237\n",
      "Epoch 51/100\n",
      "16/16 [==============================] - 0s 6ms/step - loss: 0.1189 - accuracy: 0.9518\n",
      "Epoch 52/100\n",
      "16/16 [==============================] - 0s 6ms/step - loss: 0.1069 - accuracy: 0.9458\n",
      "Epoch 53/100\n",
      "16/16 [==============================] - 0s 6ms/step - loss: 0.0905 - accuracy: 0.9538\n",
      "Epoch 54/100\n",
      "16/16 [==============================] - 0s 11ms/step - loss: 0.1090 - accuracy: 0.9418\n",
      "Epoch 55/100\n",
      "16/16 [==============================] - 0s 6ms/step - loss: 0.0969 - accuracy: 0.9518\n",
      "Epoch 56/100\n",
      "16/16 [==============================] - 0s 6ms/step - loss: 0.1156 - accuracy: 0.9578\n",
      "Epoch 57/100\n",
      "16/16 [==============================] - 0s 6ms/step - loss: 0.1002 - accuracy: 0.9458\n",
      "Epoch 58/100\n",
      "16/16 [==============================] - 0s 6ms/step - loss: 0.0968 - accuracy: 0.9538\n",
      "Epoch 59/100\n",
      "16/16 [==============================] - 0s 6ms/step - loss: 0.1060 - accuracy: 0.9578\n",
      "Epoch 60/100\n",
      "16/16 [==============================] - 0s 5ms/step - loss: 0.1531 - accuracy: 0.9317\n",
      "Epoch 61/100\n",
      "16/16 [==============================] - 0s 6ms/step - loss: 0.1085 - accuracy: 0.9478\n",
      "Epoch 62/100\n",
      "16/16 [==============================] - 0s 6ms/step - loss: 0.1371 - accuracy: 0.9398\n",
      "Epoch 63/100\n",
      "16/16 [==============================] - 0s 6ms/step - loss: 0.1620 - accuracy: 0.9317\n",
      "Epoch 64/100\n",
      "16/16 [==============================] - 0s 6ms/step - loss: 0.1272 - accuracy: 0.9538\n",
      "Epoch 65/100\n",
      "16/16 [==============================] - 0s 6ms/step - loss: 0.1256 - accuracy: 0.9438\n",
      "Epoch 66/100\n",
      "16/16 [==============================] - 0s 6ms/step - loss: 0.1431 - accuracy: 0.9538\n",
      "Epoch 67/100\n",
      "16/16 [==============================] - 0s 6ms/step - loss: 0.1166 - accuracy: 0.9438\n",
      "Epoch 68/100\n",
      "16/16 [==============================] - 0s 6ms/step - loss: 0.1440 - accuracy: 0.9418\n",
      "Epoch 69/100\n",
      "16/16 [==============================] - 0s 6ms/step - loss: 0.1115 - accuracy: 0.9558\n",
      "Epoch 70/100\n",
      "16/16 [==============================] - 0s 8ms/step - loss: 0.1054 - accuracy: 0.9478\n",
      "Epoch 71/100\n",
      "16/16 [==============================] - 0s 6ms/step - loss: 0.1438 - accuracy: 0.9378\n",
      "Epoch 72/100\n",
      "16/16 [==============================] - 0s 6ms/step - loss: 0.1173 - accuracy: 0.9458\n",
      "Epoch 73/100\n",
      "16/16 [==============================] - 0s 5ms/step - loss: 0.1400 - accuracy: 0.9578\n",
      "Epoch 74/100\n",
      "16/16 [==============================] - 0s 6ms/step - loss: 0.1355 - accuracy: 0.9538\n",
      "Epoch 75/100\n",
      "16/16 [==============================] - 0s 6ms/step - loss: 0.1072 - accuracy: 0.9478\n",
      "Epoch 76/100\n",
      "16/16 [==============================] - 0s 6ms/step - loss: 0.1076 - accuracy: 0.9598\n",
      "Epoch 77/100\n",
      "16/16 [==============================] - 0s 6ms/step - loss: 0.0995 - accuracy: 0.9498\n",
      "Epoch 78/100\n",
      "16/16 [==============================] - 0s 6ms/step - loss: 0.0871 - accuracy: 0.9538\n",
      "Epoch 79/100\n",
      "16/16 [==============================] - 0s 6ms/step - loss: 0.0920 - accuracy: 0.9538\n",
      "Epoch 80/100\n",
      "16/16 [==============================] - 0s 6ms/step - loss: 0.0863 - accuracy: 0.9578\n",
      "Epoch 81/100\n",
      "16/16 [==============================] - 0s 6ms/step - loss: 0.0713 - accuracy: 0.9719\n",
      "Epoch 82/100\n",
      "16/16 [==============================] - 0s 6ms/step - loss: 0.0847 - accuracy: 0.9598\n",
      "Epoch 83/100\n",
      "16/16 [==============================] - 0s 6ms/step - loss: 0.1543 - accuracy: 0.9478\n",
      "Epoch 84/100\n",
      "16/16 [==============================] - 0s 6ms/step - loss: 0.1240 - accuracy: 0.9518\n",
      "Epoch 85/100\n",
      "16/16 [==============================] - 0s 6ms/step - loss: 0.0964 - accuracy: 0.9598\n",
      "Epoch 86/100\n",
      "16/16 [==============================] - 0s 6ms/step - loss: 0.1398 - accuracy: 0.9498\n",
      "Epoch 87/100\n",
      "16/16 [==============================] - 0s 10ms/step - loss: 0.1052 - accuracy: 0.9518\n",
      "Epoch 88/100\n",
      "16/16 [==============================] - 0s 5ms/step - loss: 0.0967 - accuracy: 0.9578\n",
      "Epoch 89/100\n",
      "16/16 [==============================] - 0s 6ms/step - loss: 0.0931 - accuracy: 0.9578\n",
      "Epoch 90/100\n",
      "16/16 [==============================] - 0s 6ms/step - loss: 0.0988 - accuracy: 0.9558\n",
      "Epoch 91/100\n",
      "16/16 [==============================] - 0s 6ms/step - loss: 0.1016 - accuracy: 0.9598\n",
      "Epoch 92/100\n",
      "16/16 [==============================] - 0s 6ms/step - loss: 0.1284 - accuracy: 0.9498\n",
      "Epoch 93/100\n",
      "16/16 [==============================] - 0s 6ms/step - loss: 0.1153 - accuracy: 0.9498\n",
      "Epoch 94/100\n",
      "16/16 [==============================] - 0s 6ms/step - loss: 0.0804 - accuracy: 0.9719\n",
      "Epoch 95/100\n",
      "16/16 [==============================] - 0s 6ms/step - loss: 0.0801 - accuracy: 0.9618\n",
      "Epoch 96/100\n",
      "16/16 [==============================] - 0s 6ms/step - loss: 0.0939 - accuracy: 0.9639\n",
      "Epoch 97/100\n",
      "16/16 [==============================] - 0s 6ms/step - loss: 0.0677 - accuracy: 0.9679\n",
      "Epoch 98/100\n",
      "16/16 [==============================] - 0s 6ms/step - loss: 0.0907 - accuracy: 0.9699\n",
      "Epoch 99/100\n",
      "16/16 [==============================] - 0s 6ms/step - loss: 0.0913 - accuracy: 0.9659\n",
      "Epoch 100/100\n",
      "16/16 [==============================] - 0s 6ms/step - loss: 0.1651 - accuracy: 0.9398\n"
     ]
    },
    {
     "data": {
      "text/plain": [
       "<keras.src.callbacks.History at 0x296f1d52470>"
      ]
     },
     "execution_count": 80,
     "metadata": {},
     "output_type": "execute_result"
    }
   ],
   "source": [
    "model.fit(X, y, epochs=100)"
   ]
  },
  {
   "cell_type": "code",
   "execution_count": 136,
   "metadata": {},
   "outputs": [],
   "source": [
    "test = Stroke_Pipeline(test).transform()"
   ]
  },
  {
   "cell_type": "code",
   "execution_count": 140,
   "metadata": {},
   "outputs": [
    {
     "name": "stdout",
     "output_type": "stream",
     "text": [
      "319/319 [==============================] - 1s 2ms/step\n"
     ]
    }
   ],
   "source": [
    "y_pred = model.predict(test)"
   ]
  },
  {
   "cell_type": "code",
   "execution_count": null,
   "metadata": {},
   "outputs": [],
   "source": []
  },
  {
   "cell_type": "markdown",
   "metadata": {},
   "source": [
    "###  Model Evaluation"
   ]
  },
  {
   "cell_type": "markdown",
   "metadata": {},
   "source": [
    "#### Evaluation on Training Data"
   ]
  },
  {
   "cell_type": "markdown",
   "metadata": {},
   "source": [
    "### Saving the model"
   ]
  }
 ],
 "metadata": {
  "kernelspec": {
   "display_name": "Python 3",
   "language": "python",
   "name": "python3"
  },
  "language_info": {
   "codemirror_mode": {
    "name": "ipython",
    "version": 3
   },
   "file_extension": ".py",
   "mimetype": "text/x-python",
   "name": "python",
   "nbconvert_exporter": "python",
   "pygments_lexer": "ipython3",
   "version": "3.10.8"
  }
 },
 "nbformat": 4,
 "nbformat_minor": 2
}
